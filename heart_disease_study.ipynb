{
 "cells": [
  {
   "cell_type": "markdown",
   "metadata": {},
   "source": [
    "# how to determine which parameters mostly affect a result? *A heart disease study*"
   ]
  },
  {
   "cell_type": "code",
   "execution_count": 1,
   "metadata": {},
   "outputs": [
    {
     "name": "stderr",
     "output_type": "stream",
     "text": [
      "C:\\Users\\ophir\\AppData\\Local\\Programs\\Python\\Python39\\lib\\site-packages\\numpy\\_distributor_init.py:30: UserWarning: loaded more than 1 DLL from .libs:\n",
      "C:\\Users\\ophir\\AppData\\Local\\Programs\\Python\\Python39\\lib\\site-packages\\numpy\\.libs\\libopenblas.WCDJNK7YVMPZQ2ME2ZZHJJRJ3JIKNDB7.gfortran-win_amd64.dll\n",
      "C:\\Users\\ophir\\AppData\\Local\\Programs\\Python\\Python39\\lib\\site-packages\\numpy\\.libs\\libopenblas.XWYDX2IKJW2NMTWSFYNGFUWKQU3LYTCZ.gfortran-win_amd64.dll\n",
      "  warnings.warn(\"loaded more than 1 DLL from .libs:\"\n"
     ]
    }
   ],
   "source": [
    "# imports\n",
    "import numpy as np\n",
    "import pandas as pd\n",
    "import matplotlib.pyplot as plt\n",
    "import seaborn as sns"
   ]
  },
  {
   "cell_type": "code",
   "execution_count": 2,
   "metadata": {},
   "outputs": [
    {
     "name": "stdout",
     "output_type": "stream",
     "text": [
      "           count        mean        std    min    25%    50%    75%    max\n",
      "age       1025.0   54.434146   9.072290   29.0   48.0   56.0   61.0   77.0\n",
      "sex       1025.0    0.695610   0.460373    0.0    0.0    1.0    1.0    1.0\n",
      "cp        1025.0    0.942439   1.029641    0.0    0.0    1.0    2.0    3.0\n",
      "trestbps  1025.0  131.611707  17.516718   94.0  120.0  130.0  140.0  200.0\n",
      "chol      1025.0  246.000000  51.592510  126.0  211.0  240.0  275.0  564.0\n",
      "fbs       1025.0    0.149268   0.356527    0.0    0.0    0.0    0.0    1.0\n",
      "restecg   1025.0    0.529756   0.527878    0.0    0.0    1.0    1.0    2.0\n",
      "thalach   1025.0  149.114146  23.005724   71.0  132.0  152.0  166.0  202.0\n",
      "exang     1025.0    0.336585   0.472772    0.0    0.0    0.0    1.0    1.0\n",
      "oldpeak   1025.0    1.071512   1.175053    0.0    0.0    0.8    1.8    6.2\n",
      "slope     1025.0    1.385366   0.617755    0.0    1.0    1.0    2.0    2.0\n",
      "ca        1025.0    0.754146   1.030798    0.0    0.0    0.0    1.0    4.0\n",
      "thal      1025.0    2.323902   0.620660    0.0    2.0    2.0    3.0    3.0\n",
      "target    1025.0    0.513171   0.500070    0.0    0.0    1.0    1.0    1.0\n"
     ]
    }
   ],
   "source": [
    "# dataset loading\n",
    "df = pd.read_csv('../proposal/heart.csv')\n",
    "# get a summary of the data\n",
    "print (df.describe().T)"
   ]
  },
  {
   "cell_type": "markdown",
   "metadata": {},
   "source": [
    "### Exploratory data analysis"
   ]
  },
  {
   "cell_type": "code",
   "execution_count": 4,
   "metadata": {},
   "outputs": [
    {
     "data": {
      "text/plain": [
       "Text(0, 0.5, 'Amount')"
      ]
     },
     "execution_count": 4,
     "metadata": {},
     "output_type": "execute_result"
    },
    {
     "data": {
      "image/png": "[encoded data removed]",
      "text/plain": [
       "<Figure size 432x288 with 1 Axes>"
      ]
     },
     "metadata": {
      "needs_background": "light"
     },
     "output_type": "display_data"
    }
   ],
   "source": [
    "# finding out how many people are sick and how many people are healthy\n",
    "df.target.value_counts()\n",
    "\n",
    "# plotting a bar chart.\n",
    "fig = df.target.value_counts().plot(kind = 'bar', color=[\"red\", 'blue'])\n",
    "fig.set_xticklabels(labels=['Sick', \"Healthy\"], rotation=0)\n",
    "plt.title(\"Disease distibution along the dataset\")\n",
    "plt.ylabel(\"Amount\")"
   ]
  },
  {
   "cell_type": "markdown",
   "metadata": {},
   "source": []
  }
 ],
 "metadata": {
  "interpreter": {
   "hash": "5f77fc32319fb7e5a5c5688a9d0de25364b5e67585253c4aaa9da924d4669291"
  },
  "kernelspec": {
   "display_name": "Python 3.9.7 64-bit",
   "language": "python",
   "name": "python3"
  },
  "language_info": {
   "codemirror_mode": {
    "name": "ipython",
    "version": 3
   },
   "file_extension": ".py",
   "mimetype": "text/x-python",
   "name": "python",
   "nbconvert_exporter": "python",
   "pygments_lexer": "ipython3",
   "version": "3.9.7"
  },
  "orig_nbformat": 4
 },
 "nbformat": 4,
 "nbformat_minor": 2
}
