{
 "cells": [
  {
   "cell_type": "markdown",
   "metadata": {},
   "source": [
    "# how to determine which parameters mostly affect a result? *A heart disease study*"
   ]
  },
  {
   "cell_type": "code",
   "execution_count": 1,
   "metadata": {},
   "outputs": [],
   "source": [
    "# imports\n",
    "import numpy as np\n",
    "import pandas as pd\n",
    "from scipy import stats\n",
    "import seaborn as sns\n",
    "import matplotlib.pyplot as plt\n",
    "import pandas_profiling as profiling\n",
    "from sklearn.model_selection import train_test_split\n",
    "from sklearn.linear_model import LogisticRegression\n",
    "import warnings\n",
    "\n",
    "warnings.filterwarnings('ignore')\n",
    "%matplotlib inline"
   ]
  },
  {
   "cell_type": "markdown",
   "metadata": {},
   "source": [
    "## 1. Introduction\n",
    "Heart disease is broad term used for diseases affecting the heart and circulatory system.\n",
    "Heart disease is a major cause of disability and death all around the world.\n",
    "Since heart is amongst the most vital organs of the body, its diseases affect the body altogether.\n",
    "\n",
    "**Objective of this study**\n",
    "1. Explore the kaggle's heart disease dataset using statistical inference and data analysis.\n",
    "2. Explore different lassification algorithms for prediction using machine learning. \n",
    "3. Compare between the statistical inference results and the machine learning algorithms. \n",
    "4. hypothesize whether machine learning models learn statistically correlated features?\n"
   ]
  },
  {
   "cell_type": "code",
   "execution_count": 2,
   "metadata": {},
   "outputs": [],
   "source": [
    "# dataset loading\n",
    "df = pd.read_csv('../proposal/heart.csv')"
   ]
  },
  {
   "cell_type": "markdown",
   "metadata": {},
   "source": [
    "## 2. Data analysis\n",
    "In this part, we will explore the data using statistical analysis and discover how different features of the data influence each other. "
   ]
  },
  {
   "cell_type": "code",
   "execution_count": 3,
   "metadata": {},
   "outputs": [
    {
     "name": "stdout",
     "output_type": "stream",
     "text": [
      "           count        mean        std    min    25%    50%    75%    max\n",
      "age       1025.0   54.434146   9.072290   29.0   48.0   56.0   61.0   77.0\n",
      "sex       1025.0    0.695610   0.460373    0.0    0.0    1.0    1.0    1.0\n",
      "cp        1025.0    0.942439   1.029641    0.0    0.0    1.0    2.0    3.0\n",
      "trestbps  1025.0  131.611707  17.516718   94.0  120.0  130.0  140.0  200.0\n",
      "chol      1025.0  246.000000  51.592510  126.0  211.0  240.0  275.0  564.0\n",
      "fbs       1025.0    0.149268   0.356527    0.0    0.0    0.0    0.0    1.0\n",
      "restecg   1025.0    0.529756   0.527878    0.0    0.0    1.0    1.0    2.0\n",
      "thalach   1025.0  149.114146  23.005724   71.0  132.0  152.0  166.0  202.0\n",
      "exang     1025.0    0.336585   0.472772    0.0    0.0    0.0    1.0    1.0\n",
      "oldpeak   1025.0    1.071512   1.175053    0.0    0.0    0.8    1.8    6.2\n",
      "slope     1025.0    1.385366   0.617755    0.0    1.0    1.0    2.0    2.0\n",
      "ca        1025.0    0.754146   1.030798    0.0    0.0    0.0    1.0    4.0\n",
      "thal      1025.0    2.323902   0.620660    0.0    2.0    2.0    3.0    3.0\n",
      "target    1025.0    0.513171   0.500070    0.0    0.0    1.0    1.0    1.0\n"
     ]
    }
   ],
   "source": [
    "# get a summary of the data\n",
    "print(df.describe().T)"
   ]
  },
  {
   "cell_type": "markdown",
   "metadata": {},
   "source": [
    "### Dictionary: \n",
    "1. age: the age of a person (counted in years)\n",
    "2. sex: biological sex of the person\n",
    "    * 1 = male\n",
    "    * 0 = female\n",
    "3. cp: chest pain type\n",
    "    * 0: typical angina\n",
    "    * 1: atypical angina\n",
    "    * 2: non-anginal pain\n",
    "    * 3: asymptomatic\n",
    "4. trestbps: resting blood pressure (mmHg - determined on admission to the hospital)\n",
    "5. chol: serum cholestoral (mg/dl)\n",
    "6. fbs: fasting blood sugar (is fbs greater than 120 mg/dl?)\n",
    "    * 1 = true; \n",
    "    * 0 = false\n",
    "7. restecg: resting electrocardiographic results\n",
    "    * 0: normal\n",
    "    * 1: ST-T wave abnormality\n",
    "    * 2: Likely left ventricular hypertrophy\n",
    "8. thalach: maximum heart rate achieved (beats per minute)\n",
    "9. exang: exercise induced angina (binary parameter)\n",
    "    * 1 = yes\n",
    "    * 0 = no\n",
    "10. oldpeak = ST depression induced by exercise relative to rest\n",
    "11. slope: the slope of the peak exercise ST segment\n",
    "    * 0: up-sloping\n",
    "    * 1: flat\n",
    "    * 2: down-sloping\n",
    "12. ca: number of major vessels (0-3) colored by flourosopy\n",
    "13. thal: \n",
    "    * 0 = error\n",
    "    * 1 = fixed defect\n",
    "    * 2 = normal \n",
    "    * 3 = reversable defect \n",
    "14. target (Lable): \n",
    "    * 0 = Healthy \n",
    "    * 1 = Sick\n",
    "\n",
    "***Note on the target label:*** <br/>\n",
    "Diagnosis of heart disease is based on angiographic disease status with the following parameter: \n",
    "\n",
    "Healthy: < 50% diameter narrowing <br/>\n",
    "Sick:    > 50% diameter narrowing"
   ]
  },
  {
   "cell_type": "markdown",
   "metadata": {},
   "source": [
    "### Preprocessing: "
   ]
  },
  {
   "cell_type": "code",
   "execution_count": 4,
   "metadata": {},
   "outputs": [
    {
     "data": {
      "text/plain": [
       "age         0\n",
       "sex         0\n",
       "cp          0\n",
       "trestbps    0\n",
       "chol        0\n",
       "fbs         0\n",
       "restecg     0\n",
       "thalach     0\n",
       "exang       0\n",
       "oldpeak     0\n",
       "slope       0\n",
       "ca          0\n",
       "thal        0\n",
       "target      0\n",
       "dtype: int64"
      ]
     },
     "execution_count": 4,
     "metadata": {},
     "output_type": "execute_result"
    }
   ],
   "source": [
    "### Null values\n",
    "df.isna().sum()"
   ]
  },
  {
   "cell_type": "markdown",
   "metadata": {},
   "source": [
    "#### There are no null values "
   ]
  },
  {
   "cell_type": "code",
   "execution_count": 5,
   "metadata": {},
   "outputs": [
    {
     "name": "stdout",
     "output_type": "stream",
     "text": [
      "age                            int64\n",
      "sex                           object\n",
      "chest_pain_type               object\n",
      "resting_blood_pressure         int64\n",
      "cholesterol                    int64\n",
      "fasting_blood_sugar           object\n",
      "rest_electrocardiographic     object\n",
      "max_heart_rate_achieved        int64\n",
      "exercise_induced_angina       object\n",
      "st_depression                float64\n",
      "st_slope                      object\n",
      "num_major_vessels              int64\n",
      "thalassemia                   object\n",
      "target                         int64\n",
      "dtype: object\n"
     ]
    }
   ],
   "source": [
    "# Feature renaming for clarity\n",
    "df = df.rename(columns = {'cp':'chest_pain_type', 'trestbps':'resting_blood_pressure', 'chol': 'cholesterol','fbs': 'fasting_blood_sugar', \n",
    "                'restecg' : 'rest_electrocardiographic', 'thalach': 'max_heart_rate_achieved', 'exang': 'exercise_induced_angina',\n",
    "                'oldpeak': 'st_depression', 'slope': 'st_slope', 'ca':'num_major_vessels', 'thal': 'thalassemia'}, errors=\"raise\")\n",
    "\n",
    "df['sex'][df['sex'] == 0] = 'female'\n",
    "df['sex'][df['sex'] == 1] = 'male'\n",
    "\n",
    "df['chest_pain_type'][df['chest_pain_type'] == 0] = 'typical angina'\n",
    "df['chest_pain_type'][df['chest_pain_type'] == 1] = 'atypical angina'\n",
    "df['chest_pain_type'][df['chest_pain_type'] == 2] = 'non-anginal pain'\n",
    "df['chest_pain_type'][df['chest_pain_type'] == 3] = 'asymptomatic'\n",
    "\n",
    "df['fasting_blood_sugar'][df['fasting_blood_sugar'] == 0] = 'lower than 120mg/ml'\n",
    "df['fasting_blood_sugar'][df['fasting_blood_sugar'] == 1] = 'greater than 120mg/ml'\n",
    "\n",
    "df['rest_electrocardiographic'][df['rest_electrocardiographic'] == 0] = 'normal'\n",
    "df['rest_electrocardiographic'][df['rest_electrocardiographic'] == 1] = 'ST-T wave abnormality'\n",
    "df['rest_electrocardiographic'][df['rest_electrocardiographic'] == 2] = 'left ventricular hypertrophy'\n",
    "\n",
    "df['exercise_induced_angina'][df['exercise_induced_angina'] == 0] = 'no'\n",
    "df['exercise_induced_angina'][df['exercise_induced_angina'] == 1] = 'yes'\n",
    "\n",
    "df['st_slope'][df['st_slope'] == 0] = 'upsloping'\n",
    "df['st_slope'][df['st_slope'] == 1] = 'flat'\n",
    "df['st_slope'][df['st_slope'] == 2] = 'downsloping'\n",
    "\n",
    "df['thalassemia'][df['thalassemia'] == 1] = 'fixed defect'\n",
    "df['thalassemia'][df['thalassemia'] == 2] = 'normal'\n",
    "df['thalassemia'][df['thalassemia'] == 3] = 'reversable defect'\n",
    "\n",
    "print(df.dtypes)"
   ]
  },
  {
   "cell_type": "code",
   "execution_count": 6,
   "metadata": {},
   "outputs": [],
   "source": [
    "# group numerial features together\n",
    "numerical_features = ['age', 'cholesterol', 'resting_blood_pressure', 'max_heart_rate_achieved', 'st_depression', 'num_major_vessels']\n",
    "# group binary features together\n",
    "binary_features = ['sex', 'fasting_blood_sugar', 'exercise_induced_angina', 'target']\n",
    "# group categorical features together\n",
    "categorical_features = ['chest_pain_type', 'rest_electrocardiographic', 'st_slope', 'thalassemia'] + binary_features"
   ]
  },
  {
   "cell_type": "markdown",
   "metadata": {},
   "source": [
    "### Analysis"
   ]
  },
  {
   "cell_type": "code",
   "execution_count": 7,
   "metadata": {},
   "outputs": [
    {
     "name": "stdout",
     "output_type": "stream",
     "text": [
      "1    526\n",
      "0    499\n",
      "Name: target, dtype: int64\n"
     ]
    },
    {
     "data": {
      "text/plain": [
       "Text(0, 0.5, 'Amount of people')"
      ]
     },
     "execution_count": 7,
     "metadata": {},
     "output_type": "execute_result"
    },
    {
     "data": {
      "image/png": "[encoded data removed]",
      "text/plain": [
       "<Figure size 432x288 with 1 Axes>"
      ]
     },
     "metadata": {
      "needs_background": "light"
     },
     "output_type": "display_data"
    }
   ],
   "source": [
    "# distribution of sick vs healthy personal in the dataset.\n",
    "print(df.target.value_counts())\n",
    "\n",
    "# plotting the binary distribution in a bar chart.\n",
    "fig = df.target.value_counts().plot(kind = 'bar', color=[\"red\", 'blue'])\n",
    "fig.set_xticklabels(labels=['Sick', \"Healthy\"], rotation=0)\n",
    "plt.title(\"Disease distibution along the dataset\")\n",
    "plt.ylabel(\"Amount of people\")"
   ]
  },
  {
   "cell_type": "markdown",
   "metadata": {},
   "source": [
    "#### We can see that the dataset is quite balanced with:\n",
    "- 526 sick personal \n",
    "- 499 healthy personal"
   ]
  },
  {
   "cell_type": "code",
   "execution_count": 8,
   "metadata": {},
   "outputs": [
    {
     "data": {
      "image/png": "[encoded data removed]",
      "text/plain": [
       "<Figure size 432x288 with 1 Axes>"
      ]
     },
     "metadata": {},
     "output_type": "display_data"
    }
   ],
   "source": [
    "# distribution of gender in the dataset.\n",
    "labels = 'Male', 'Female'\n",
    "explode = (0, 0)\n",
    "\n",
    "fig1, ax1 = plt.subplots()\n",
    "ax1.pie(df.sex.value_counts(), explode=explode, labels=labels, autopct='%1.1f%%',\n",
    "        shadow=True, startangle=90)\n",
    "ax1.axis('equal')\n",
    "plt.show()"
   ]
  },
  {
   "cell_type": "markdown",
   "metadata": {},
   "source": [
    "### We can see that the dataset consists of:\n",
    "- 69.6% male  \n",
    "- 30.4% female"
   ]
  },
  {
   "cell_type": "code",
   "execution_count": 9,
   "metadata": {},
   "outputs": [
    {
     "ename": "AttributeError",
     "evalue": "'DataFrame' object has no attribute 'cp'",
     "output_type": "error",
     "traceback": [
      "\u001b[1;31m---------------------------------------------------------------------------\u001b[0m",
      "\u001b[1;31mAttributeError\u001b[0m                            Traceback (most recent call last)",
      "\u001b[1;32m~\\AppData\\Local\\Temp/ipykernel_21740/1152478916.py\u001b[0m in \u001b[0;36m<module>\u001b[1;34m\u001b[0m\n\u001b[0;32m      1\u001b[0m \u001b[1;31m# figuring out chest pain type distribution\u001b[0m\u001b[1;33m\u001b[0m\u001b[1;33m\u001b[0m\u001b[0m\n\u001b[1;32m----> 2\u001b[1;33m \u001b[0mfig\u001b[0m \u001b[1;33m=\u001b[0m \u001b[0mdf\u001b[0m\u001b[1;33m.\u001b[0m\u001b[0mcp\u001b[0m\u001b[1;33m.\u001b[0m\u001b[0mvalue_counts\u001b[0m\u001b[1;33m(\u001b[0m\u001b[1;33m)\u001b[0m\u001b[1;33m.\u001b[0m\u001b[0mplot\u001b[0m\u001b[1;33m(\u001b[0m\u001b[0mkind\u001b[0m \u001b[1;33m=\u001b[0m \u001b[1;34m'bar'\u001b[0m\u001b[1;33m,\u001b[0m \u001b[0mcolor\u001b[0m \u001b[1;33m=\u001b[0m \u001b[1;33m[\u001b[0m\u001b[1;34m'green'\u001b[0m\u001b[1;33m,\u001b[0m \u001b[1;34m'cyan'\u001b[0m\u001b[1;33m,\u001b[0m \u001b[1;34m'yellow'\u001b[0m\u001b[1;33m,\u001b[0m \u001b[1;34m'red'\u001b[0m\u001b[1;33m]\u001b[0m\u001b[1;33m)\u001b[0m\u001b[1;33m\u001b[0m\u001b[1;33m\u001b[0m\u001b[0m\n\u001b[0m\u001b[0;32m      3\u001b[0m \u001b[0mfig\u001b[0m\u001b[1;33m.\u001b[0m\u001b[0mset_xticklabels\u001b[0m\u001b[1;33m(\u001b[0m\u001b[0mlabels\u001b[0m\u001b[1;33m=\u001b[0m\u001b[1;33m[\u001b[0m\u001b[1;34m'type 0'\u001b[0m\u001b[1;33m,\u001b[0m \u001b[1;34m'type 1'\u001b[0m\u001b[1;33m,\u001b[0m \u001b[1;34m'type 2'\u001b[0m\u001b[1;33m,\u001b[0m \u001b[1;34m'type 3'\u001b[0m\u001b[1;33m]\u001b[0m\u001b[1;33m,\u001b[0m \u001b[0mrotation\u001b[0m\u001b[1;33m=\u001b[0m\u001b[1;36m0\u001b[0m\u001b[1;33m)\u001b[0m\u001b[1;33m\u001b[0m\u001b[1;33m\u001b[0m\u001b[0m\n\u001b[0;32m      4\u001b[0m \u001b[0mplt\u001b[0m\u001b[1;33m.\u001b[0m\u001b[0mtitle\u001b[0m\u001b[1;33m(\u001b[0m\u001b[1;34m'Chest pain type count'\u001b[0m\u001b[1;33m)\u001b[0m\u001b[1;33m\u001b[0m\u001b[1;33m\u001b[0m\u001b[0m\n",
      "\u001b[1;32m~\\AppData\\Local\\Programs\\Python\\Python39\\lib\\site-packages\\pandas\\core\\generic.py\u001b[0m in \u001b[0;36m__getattr__\u001b[1;34m(self, name)\u001b[0m\n\u001b[0;32m   5573\u001b[0m         ):\n\u001b[0;32m   5574\u001b[0m             \u001b[1;32mreturn\u001b[0m \u001b[0mself\u001b[0m\u001b[1;33m[\u001b[0m\u001b[0mname\u001b[0m\u001b[1;33m]\u001b[0m\u001b[1;33m\u001b[0m\u001b[1;33m\u001b[0m\u001b[0m\n\u001b[1;32m-> 5575\u001b[1;33m         \u001b[1;32mreturn\u001b[0m \u001b[0mobject\u001b[0m\u001b[1;33m.\u001b[0m\u001b[0m__getattribute__\u001b[0m\u001b[1;33m(\u001b[0m\u001b[0mself\u001b[0m\u001b[1;33m,\u001b[0m \u001b[0mname\u001b[0m\u001b[1;33m)\u001b[0m\u001b[1;33m\u001b[0m\u001b[1;33m\u001b[0m\u001b[0m\n\u001b[0m\u001b[0;32m   5576\u001b[0m \u001b[1;33m\u001b[0m\u001b[0m\n\u001b[0;32m   5577\u001b[0m     \u001b[1;32mdef\u001b[0m \u001b[0m__setattr__\u001b[0m\u001b[1;33m(\u001b[0m\u001b[0mself\u001b[0m\u001b[1;33m,\u001b[0m \u001b[0mname\u001b[0m\u001b[1;33m:\u001b[0m \u001b[0mstr\u001b[0m\u001b[1;33m,\u001b[0m \u001b[0mvalue\u001b[0m\u001b[1;33m)\u001b[0m \u001b[1;33m->\u001b[0m \u001b[1;32mNone\u001b[0m\u001b[1;33m:\u001b[0m\u001b[1;33m\u001b[0m\u001b[1;33m\u001b[0m\u001b[0m\n",
      "\u001b[1;31mAttributeError\u001b[0m: 'DataFrame' object has no attribute 'cp'"
     ]
    }
   ],
   "source": [
    "# figuring out chest pain type distribution\n",
    "fig = df.cp.value_counts().plot(kind = 'bar', color = ['green', 'cyan', 'yellow', 'red'])\n",
    "fig.set_xticklabels(labels=['type 0', 'type 1', 'type 2', 'type 3'], rotation=0)\n",
    "plt.title('Chest pain type count')"
   ]
  },
  {
   "cell_type": "markdown",
   "metadata": {},
   "source": [
    "### Machine learning"
   ]
  },
  {
   "cell_type": "code",
   "execution_count": null,
   "metadata": {},
   "outputs": [],
   "source": [
    "# separating features and labels\n",
    "features = df.iloc[:, 0:-1]\n",
    "labels = df.iloc[:, -1]"
   ]
  },
  {
   "cell_type": "code",
   "execution_count": null,
   "metadata": {},
   "outputs": [],
   "source": [
    "# spltting the dataset into train and test set\n",
    "x_train, x_test, y_train, y_test = train_test_split(features, labels, test_size = 0.25, random_state=1)"
   ]
  },
  {
   "cell_type": "code",
   "execution_count": null,
   "metadata": {},
   "outputs": [],
   "source": [
    "# logistic regression classifier\n",
    "lr = LogisticRegression(max_iter = 1000, random_state=1)\n",
    "lr.fit(x_train, y_train)\n",
    "lr_score = lr.score(x_test, y_test)\n",
    "print(\"Score: \" + str(lr_score))\n",
    "print(\"Coefficients: \" + str(lr.coef_))\n"
   ]
  },
  {
   "cell_type": "code",
   "execution_count": null,
   "metadata": {},
   "outputs": [],
   "source": [
    "clms = df.columns.drop(['target'])\n",
    "lr_coef = pd.DataFrame(lr.coef_, columns = clms)\n",
    "coeff = pd.melt(lr_coef)\n",
    "ax = sns.barplot(y = coeff.variable, x = coeff.value)"
   ]
  }
 ],
 "metadata": {
  "interpreter": {
   "hash": "5f77fc32319fb7e5a5c5688a9d0de25364b5e67585253c4aaa9da924d4669291"
  },
  "kernelspec": {
   "display_name": "Python 3.9.7 64-bit",
   "language": "python",
   "name": "python3"
  },
  "language_info": {
   "codemirror_mode": {
    "name": "ipython",
    "version": 3
   },
   "file_extension": ".py",
   "mimetype": "text/x-python",
   "name": "python",
   "nbconvert_exporter": "python",
   "pygments_lexer": "ipython3",
   "version": "3.9.7"
  },
  "orig_nbformat": 4
 },
 "nbformat": 4,
 "nbformat_minor": 2
}
